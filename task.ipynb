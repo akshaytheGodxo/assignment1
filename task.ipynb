{
 "cells": [
  {
   "cell_type": "code",
   "execution_count": 62,
   "id": "6f877589",
   "metadata": {},
   "outputs": [],
   "source": [
    "import numpy as np"
   ]
  },
  {
   "cell_type": "markdown",
   "id": "53acc2ca",
   "metadata": {},
   "source": [
    "<h1> Task 1</h1>"
   ]
  },
  {
   "cell_type": "code",
   "execution_count": 63,
   "id": "e2c8f499",
   "metadata": {},
   "outputs": [
    {
     "name": "stdout",
     "output_type": "stream",
     "text": [
      "[ 1  2  3  4  5  6  7  8  9 10]\n",
      "10\n",
      "(10,)\n",
      "int64\n"
     ]
    }
   ],
   "source": [
    "# creating the 1 D numy array\n",
    "\n",
    "arr = np.array([i for i in range(1,11)])\n",
    "print(arr)\n",
    "print(arr.size)\n",
    "print(arr.shape)\n",
    "print(arr.dtype)"
   ]
  },
  {
   "cell_type": "code",
   "execution_count": 64,
   "id": "372a6834",
   "metadata": {},
   "outputs": [
    {
     "name": "stdout",
     "output_type": "stream",
     "text": [
      "[[1 2 3]\n",
      " [4 5 6]\n",
      " [7 8 9]]\n",
      "9\n",
      "(3, 3)\n",
      "int64\n"
     ]
    }
   ],
   "source": [
    "arr1 = np.arange(1,10).reshape(3,3)\n",
    "print(arr1)\n",
    "print(arr1.size)\n",
    "print(arr1.shape)\n",
    "print(arr1.dtype)"
   ]
  },
  {
   "cell_type": "code",
   "execution_count": 65,
   "id": "a3fce76e",
   "metadata": {},
   "outputs": [
    {
     "name": "stdout",
     "output_type": "stream",
     "text": [
      "[[[0.83414277 0.62475994 0.16497416]\n",
      "  [0.91711671 0.49907566 0.00114251]\n",
      "  [0.44285277 0.01424368 0.19334594]\n",
      "  [0.9201019  0.99571678 0.59105537]\n",
      "  [0.103724   0.62280312 0.89222391]]\n",
      "\n",
      " [[0.3929024  0.52673515 0.06568243]\n",
      "  [0.09403669 0.47207766 0.60472805]\n",
      "  [0.23678498 0.48674625 0.65640648]\n",
      "  [0.77973471 0.43103649 0.56397532]\n",
      "  [0.43619446 0.86800008 0.14186603]]\n",
      "\n",
      " [[0.72666772 0.04108744 0.849788  ]\n",
      "  [0.64362341 0.98091731 0.30297696]\n",
      "  [0.99446907 0.97329215 0.65302777]\n",
      "  [0.13493167 0.04134552 0.27796189]\n",
      "  [0.24562986 0.80495225 0.90921039]]]\n",
      "45\n",
      "(3, 5, 3)\n",
      "float64\n"
     ]
    }
   ],
   "source": [
    "arr2 = np.random.rand(3, 5, 3)\n",
    "print(arr2)\n",
    "print(arr2.size)\n",
    "print(arr2.shape)\n",
    "print(arr2.dtype)"
   ]
  },
  {
   "cell_type": "markdown",
   "id": "6797fb55",
   "metadata": {},
   "source": [
    "<h1> Task 2</h1>"
   ]
  },
  {
   "cell_type": "code",
   "execution_count": 66,
   "id": "47470c9e",
   "metadata": {},
   "outputs": [
    {
     "data": {
      "text/plain": [
       "array([10, 20, 30, 40, 50, 60, 70, 80, 90])"
      ]
     },
     "execution_count": 66,
     "metadata": {},
     "output_type": "execute_result"
    }
   ],
   "source": [
    "data = [10, 20, 30, 40, 50, 60, 70, 80, 90]\n",
    "arr = np.array(data)\n",
    "arr"
   ]
  },
  {
   "cell_type": "code",
   "execution_count": 67,
   "id": "4da36a61",
   "metadata": {},
   "outputs": [
    {
     "name": "stdout",
     "output_type": "stream",
     "text": [
      "10\n",
      "20\n",
      "30\n"
     ]
    }
   ],
   "source": [
    "for i in range(3):\n",
    "    print(arr[i])"
   ]
  },
  {
   "cell_type": "code",
   "execution_count": 68,
   "id": "e3dc7d00",
   "metadata": {},
   "outputs": [
    {
     "name": "stdout",
     "output_type": "stream",
     "text": [
      "10 30 50 70 90 "
     ]
    }
   ],
   "source": [
    "# Alternate element of an array\n",
    "\n",
    "for i in range(0,arr.size,2):\n",
    "    print(arr[i], end=\" \")\n"
   ]
  },
  {
   "cell_type": "code",
   "execution_count": 69,
   "id": "dbaf653f",
   "metadata": {},
   "outputs": [
    {
     "data": {
      "text/plain": [
       "array([90, 80, 70, 60, 50, 40, 30, 20, 10])"
      ]
     },
     "execution_count": 69,
     "metadata": {},
     "output_type": "execute_result"
    }
   ],
   "source": [
    "# reverse the array\n",
    "\n",
    "arr1 = arr[::-1]\n",
    "arr1"
   ]
  },
  {
   "cell_type": "markdown",
   "id": "28e93507",
   "metadata": {},
   "source": [
    "<h1> Task 3 : Mathematical Operation </h1>"
   ]
  },
  {
   "cell_type": "code",
   "execution_count": 70,
   "id": "13a3fbc4",
   "metadata": {},
   "outputs": [],
   "source": [
    "import random"
   ]
  },
  {
   "cell_type": "code",
   "execution_count": 74,
   "id": "9998e216",
   "metadata": {},
   "outputs": [
    {
     "name": "stdout",
     "output_type": "stream",
     "text": [
      "[ 5 12 15 20 16]\n",
      "[ 4 13 13 12 17]\n"
     ]
    }
   ],
   "source": [
    "# NUMPY ARRAYS\n",
    "\n",
    "arrA = [random.randint(1,20) for i in range(1,6)]\n",
    "npArrA = np.array(arrA)\n",
    "print(npArrA)\n",
    "\n",
    "arrB = [random.randint(1,20) for i in range(1,6)]\n",
    "npArrB = np.array(arrB)\n",
    "print(npArrB)\n"
   ]
  },
  {
   "cell_type": "code",
   "execution_count": 72,
   "id": "8b60f567",
   "metadata": {},
   "outputs": [
    {
     "name": "stdout",
     "output_type": "stream",
     "text": [
      "Addition\n",
      "[28 35 25 12 17]\n",
      "Multiplication\n",
      "[160 306 150  11  60]\n",
      "Division\n",
      "[2.5        0.94444444 0.66666667 0.09090909 0.41666667]\n",
      "Dot Product of two Arrays\n",
      "687\n",
      "Mean of Array A\n",
      "10.6\n",
      "Median of array A\n",
      "10.0\n",
      "Standard Deviation of array A\n",
      "7.116178749862878\n",
      "Variance of Array A\n",
      "50.64\n",
      "Maximum value of Array B and idx of a mx element\n",
      "18\n",
      "1\n",
      "Minimum value of Array B and idx of a mn element\n",
      "8\n",
      "0\n"
     ]
    }
   ],
   "source": [
    "# Mathematic Functions\n",
    "\n",
    "# Addition\n",
    "print('Addition')\n",
    "print(npArrA + npArrB)\n",
    "\n",
    "# Multiplication\n",
    "print('Multiplication')\n",
    "print(npArrA*npArrB)\n",
    "\n",
    "# Division\n",
    "print('Division')\n",
    "print(npArrA/npArrB)\n",
    "\n",
    "# Dot Product of two Arrays\n",
    "print('Dot Product of two Arrays')\n",
    "print(npArrA.dot(npArrB))\n",
    "\n",
    "# Mean of Array A\n",
    "print('Mean of Array A')\n",
    "print(npArrA.mean())\n",
    "\n",
    "# Median of array A\n",
    "print('Median of array A')\n",
    "print(np.median(npArrA))\n",
    "\n",
    "# Standard Deviation of array A\n",
    "print('Standard Deviation of array A')\n",
    "print(np.std(npArrA))\n",
    "\n",
    "# Variance of Array A\n",
    "print('Variance of Array A')\n",
    "print(np.var(npArrA))\n",
    "\n",
    "# Maximum value of Array B and idx of a mx element\n",
    "print('Maximum value of Array B and idx of a mx element')\n",
    "print(np.max(npArrB))\n",
    "print(np.argmax(npArrB))\n",
    "\n",
    "# Minimum value of Array B and idx of a mn element\n",
    "print('Minimum value of Array B and idx of a mn element')\n",
    "print(np.min(npArrB))\n",
    "print(np.argmin(npArrB))\n",
    "\n"
   ]
  },
  {
   "cell_type": "markdown",
   "id": "46931611",
   "metadata": {},
   "source": [
    "<h1> Task 4 : </h1>"
   ]
  },
  {
   "cell_type": "code",
   "execution_count": 73,
   "id": "94023b59",
   "metadata": {},
   "outputs": [
    {
     "name": "stdout",
     "output_type": "stream",
     "text": [
      "[ 1  2  3  4  5  6  7  8  9 10 11 12]\n",
      "2D Matrix\n",
      "[[ 1  2  3]\n",
      " [ 4  5  6]\n",
      " [ 7  8  9]\n",
      " [10 11 12]]\n",
      "3D Matrix\n",
      "[[[ 1  2  3]\n",
      "  [ 4  5  6]]\n",
      "\n",
      " [[ 7  8  9]\n",
      "  [10 11 12]]]\n",
      "\n",
      "transposing the reshaped 2D array and display its shape. \n",
      "[ 1  2  3  4  5  6  7  8  9 10 11 12]\n",
      "(12,)\n"
     ]
    }
   ],
   "source": [
    "arr = np.arange(1,13)\n",
    "print(arr)\n",
    "print('2D Matrix')\n",
    "print(arr.reshape(4,3))\n",
    "print('3D Matrix')\n",
    "print(arr.reshape(2,2,3))\n",
    "print()\n",
    "print('transposing the reshaped 2D array and display its shape. ')\n",
    "print(arr.transpose())\n",
    "print(arr.shape)"
   ]
  },
  {
   "cell_type": "markdown",
   "id": "fb3754bc",
   "metadata": {},
   "source": [
    "<h1>Task 5 :  Boolean Masking and Filtering </h1>"
   ]
  },
  {
   "cell_type": "code",
   "execution_count": 120,
   "id": "c26304cd",
   "metadata": {},
   "outputs": [
    {
     "name": "stdout",
     "output_type": "stream",
     "text": [
      "Random array of 15 elements: [39 16 15 38 34 11 18 34 39 20 13 23 28 10]\n",
      "Found all elements greater than 25: [np.int64(39), np.int64(38), np.int64(34), np.int64(34), np.int64(39), np.int64(28)]\n",
      "Replacing all elements less than 30 with 0 : 39 0 0 38 34 0 0 34 39 0 0 0 0 0 \n",
      "Count the number of elements divisible by 5 : 3\n"
     ]
    }
   ],
   "source": [
    "arr = np.array([random.randint(10,50) for i in range(1,15)])\n",
    "print(f'Random array of 15 elements: {arr}')\n",
    "\n",
    "arr2 = [i for i in arr if i > 25]\n",
    "print(f'Found all elements greater than 25: {arr2}')\n",
    "\n",
    "arr3 = [i*0 if i < 30 else i for i in arr]\n",
    "print(\"Replacing all elements less than 30 with 0 :\", end=\" \")\n",
    "for i in arr3:\n",
    "    print(i, end=\" \")\n",
    "print()\n",
    "c=0\n",
    "for i in arr:\n",
    "    if(i%5 == 0):\n",
    "        c+=1\n",
    "print(f'Count the number of elements divisible by 5 : {c}')"
   ]
  },
  {
   "cell_type": "markdown",
   "id": "796b25f2",
   "metadata": {},
   "source": [
    "<h1> Task 6: Working with built in Functions</h1>"
   ]
  },
  {
   "cell_type": "code",
   "execution_count": 110,
   "id": "e0729ea6",
   "metadata": {},
   "outputs": [
    {
     "name": "stdout",
     "output_type": "stream",
     "text": [
      "Creating an array of 10 equally spaced values between 0 and 1 :[0.  0.1 0.2 0.3 0.4 0.5 0.6 0.7 0.8 0.9] \n",
      "[[1. 0. 0. 0.]\n",
      " [0. 1. 0. 0.]\n",
      " [0. 0. 1. 0.]\n",
      " [0. 0. 0. 1.]]\n",
      "Random array of size 20  [ 52  40 100   8   3  25  10  93  85  46  62  42  95  12  26  20  11   6\n",
      "  71  12]\n",
      "sorted array [  3   6   8  10  11  12  12  20  25  26  40  42  46  52  62  71  85  93\n",
      "  95 100]\n",
      "5 largeest elemrnt : [ 71  85  93  95 100]\n"
     ]
    }
   ],
   "source": [
    "arr = np.arange(0,1,.1)\n",
    "print(f'Creating an array of 10 equally spaced values between 0 and 1 :{arr} ')\n",
    "\n",
    "print(np.identity(4))\n",
    "\n",
    "arr1 = np.random.randint(1,101, size=20)\n",
    "srtdArr = np.sort(arr1)\n",
    "\n",
    "# largest 5 elements \n",
    "largest = srtdArr[-5:]\n",
    "print(f'Random array of size 20  {arr1}')\n",
    "print(f'sorted array {srtdArr}')\n",
    "print('5 largeest elemrnt :', largest)\n",
    "\n",
    "\n"
   ]
  },
  {
   "cell_type": "markdown",
   "id": "43984fa6",
   "metadata": {},
   "source": [
    "<h1> Generic </h1>"
   ]
  },
  {
   "cell_type": "code",
   "execution_count": 111,
   "id": "48a12217",
   "metadata": {},
   "outputs": [],
   "source": [
    "import time"
   ]
  },
  {
   "cell_type": "code",
   "execution_count": 112,
   "id": "da36848f",
   "metadata": {},
   "outputs": [
    {
     "name": "stdout",
     "output_type": "stream",
     "text": [
      "Matrix multiplication completed.\n",
      "Determinant: -6.227499391488033e+50\n",
      "Inverse computed successfully.\n",
      "Time taken for operations: 0.0700 seconds\n"
     ]
    }
   ],
   "source": [
    "\n",
    "# Generate two large random arrays of size (100, 100)\n",
    "A = np.random.rand(100, 100)\n",
    "B = np.random.rand(100, 100)\n",
    "\n",
    "# Measure time\n",
    "start_time = time.time()\n",
    "\n",
    "# Perform matrix multiplication\n",
    "result = np.dot(A, B)\n",
    "\n",
    "# Try to compute determinant and inverse\n",
    "try:\n",
    "    determinant = np.linalg.det(result)\n",
    "    inverse = np.linalg.inv(result)\n",
    "    det_status = f\"Determinant: {determinant}\\nInverse computed successfully.\"\n",
    "except np.linalg.LinAlgError as e:\n",
    "    determinant = None\n",
    "    inverse = None\n",
    "    det_status = f\"Matrix is singular or not invertible.\\nError: {e}\"\n",
    "\n",
    "# Measure end time\n",
    "end_time = time.time()\n",
    "elapsed_time = end_time - start_time\n",
    "\n",
    "# Output the results\n",
    "print(\"Matrix multiplication completed.\")\n",
    "print(det_status)\n",
    "print(f\"Time taken for operations: {elapsed_time:.4f} seconds\")\n"
   ]
  },
  {
   "cell_type": "code",
   "execution_count": null,
   "id": "820ed4b2",
   "metadata": {},
   "outputs": [],
   "source": []
  },
  {
   "cell_type": "code",
   "execution_count": null,
   "id": "508635a1",
   "metadata": {},
   "outputs": [],
   "source": []
  },
  {
   "cell_type": "code",
   "execution_count": null,
   "id": "1ec65b5b",
   "metadata": {},
   "outputs": [],
   "source": []
  }
 ],
 "metadata": {
  "kernelspec": {
   "display_name": "Python 3",
   "language": "python",
   "name": "python3"
  },
  "language_info": {
   "codemirror_mode": {
    "name": "ipython",
    "version": 3
   },
   "file_extension": ".py",
   "mimetype": "text/x-python",
   "name": "python",
   "nbconvert_exporter": "python",
   "pygments_lexer": "ipython3",
   "version": "3.12.10"
  }
 },
 "nbformat": 4,
 "nbformat_minor": 5
}

{
 "cells": [
  {
   "cell_type": "code",
   "execution_count": 1,
   "id": "d1a0695d",
   "metadata": {},
   "outputs": [
    {
     "name": "stdout",
     "output_type": "stream",
     "text": [
      "Data written to data.csv successfully.\n",
      "Data read from data.csv successfully.\n",
      "[['Employee', 'Department', 'Experience'], ['Akshay', 'IT', '3 Years'], ['Ravi', 'HR', '2 Years'], ['Sneha', 'Finance', '4 Years'], ['Aman', 'Marketing', '1 Year']]\n"
     ]
    }
   ],
   "source": [
    "import csv\n",
    "\n",
    "# Create a new 2D array (e.g., employees and departments)\n",
    "data = [\n",
    "    [\"Employee\", \"Department\", \"Experience\"],\n",
    "    [\"Akshay\", \"IT\", \"3 Years\"],\n",
    "    [\"Ravi\", \"HR\", \"2 Years\"],\n",
    "    [\"Sneha\", \"Finance\", \"4 Years\"],\n",
    "    [\"Aman\", \"Marketing\", \"1 Year\"]\n",
    "]\n",
    "\n",
    "# Write to CSV file\n",
    "def write(filename, data):\n",
    "    with open(filename, 'w', newline='') as file:\n",
    "        writer = csv.writer(file)\n",
    "        writer.writerows(data)\n",
    "    print(f\"Data written to {filename} successfully.\")\n",
    "\n",
    "# Read from CSV file\n",
    "def read(filename):\n",
    "    with open(filename, 'r') as file:\n",
    "        reader = csv.reader(file)\n",
    "        data = list(reader)\n",
    "    print(f\"Data read from {filename} successfully.\")\n",
    "    return data\n",
    "\n",
    "# Usage\n",
    "filename = 'data.csv'\n",
    "write(filename, data)\n",
    "read_data = read(filename)\n",
    "print(read_data)\n"
   ]
  },
  {
   "cell_type": "code",
   "execution_count": null,
   "id": "e650206a",
   "metadata": {},
   "outputs": [],
   "source": []
  }
 ],
 "metadata": {
  "kernelspec": {
   "display_name": "Python 3",
   "language": "python",
   "name": "python3"
  },
  "language_info": {
   "codemirror_mode": {
    "name": "ipython",
    "version": 3
   },
   "file_extension": ".py",
   "mimetype": "text/x-python",
   "name": "python",
   "nbconvert_exporter": "python",
   "pygments_lexer": "ipython3",
   "version": "3.12.5"
  }
 },
 "nbformat": 4,
 "nbformat_minor": 5
}

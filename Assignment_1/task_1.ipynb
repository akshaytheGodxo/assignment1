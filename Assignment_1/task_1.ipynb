{
 "cells": [
  {
   "cell_type": "code",
   "execution_count": 3,
   "id": "5c82278f",
   "metadata": {},
   "outputs": [
    {
     "name": "stdout",
     "output_type": "stream",
     "text": [
      "Custom Exception Caught: Negative numbers are not allowed: -9\n"
     ]
    }
   ],
   "source": [
    "# Create a custom exception\n",
    "\n",
    "class NegativeNumberError(Exception):\n",
    "    #Exception raised for negative numbers where they are not allowed.\n",
    "    def __init__(self, value):\n",
    "        self.value = value\n",
    "        self.message = f\"Negative numbers are not allowed: {value}\"\n",
    "        super().__init__(self.message)\n",
    "\n",
    "\n",
    "def square_root(x):\n",
    "    if x < 0:\n",
    "        raise NegativeNumberError(x)\n",
    "    return x ** 0.5\n",
    "    \n",
    "try:\n",
    "    number = int(input(\"Enter a number: \"))\n",
    "    result = square_root(number)\n",
    "    print(f\"The square root is: {result}\")\n",
    "except NegativeNumberError as e:\n",
    "    print(f\"Custom Exception Caught: {e}\")\n",
    "except ValueError:\n",
    "    print(\"Please enter a valid integer.\")\n"
   ]
  },
  {
   "cell_type": "code",
   "execution_count": null,
   "id": "bf2eccab",
   "metadata": {},
   "outputs": [],
   "source": [
    "\n"
   ]
  }
 ],
 "metadata": {
  "kernelspec": {
   "display_name": "Python 3",
   "language": "python",
   "name": "python3"
  },
  "language_info": {
   "codemirror_mode": {
    "name": "ipython",
    "version": 3
   },
   "file_extension": ".py",
   "mimetype": "text/x-python",
   "name": "python",
   "nbconvert_exporter": "python",
   "pygments_lexer": "ipython3",
   "version": "3.13.2"
  }
 },
 "nbformat": 4,
 "nbformat_minor": 5
}
